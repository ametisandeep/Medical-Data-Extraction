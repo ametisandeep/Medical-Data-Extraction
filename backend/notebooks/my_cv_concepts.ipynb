{
 "cells": [
  {
   "cell_type": "code",
   "execution_count": 5,
   "id": "c519fd1a-cd68-4011-97de-fd39cd4ff46a",
   "metadata": {},
   "outputs": [],
   "source": [
    "#Image Parser\n",
    "import cv2\n",
    "from PIL import Image"
   ]
  },
  {
   "cell_type": "code",
   "execution_count": 6,
   "id": "0435afc6-1b09-4a44-9187-bfae901954a3",
   "metadata": {},
   "outputs": [
    {
     "name": "stdout",
     "output_type": "stream",
     "text": [
      "[[206 206 206 ... 187 186 184]\n",
      " [206 206 206 ... 186 185 185]\n",
      " [206 206 206 ... 186 185 185]\n",
      " ...\n",
      " [162 157 152 ... 184 184 184]\n",
      " [160 156 152 ... 184 184 184]\n",
      " [156 158 158 ... 184 184 184]]\n"
     ]
    }
   ],
   "source": [
    "img = cv2.imread('dark_image.jpg', flags=cv2.IMREAD_GRAYSCALE)    #load image here\n",
    "print(img)"
   ]
  },
  {
   "cell_type": "code",
   "execution_count": 7,
   "id": "b1a5c8a1-641e-4410-8392-1abdc2682ead",
   "metadata": {},
   "outputs": [],
   "source": [
    "_, new_img = cv2.threshold(img,150,255,cv2.THRESH_BINARY)    \n",
    "Image.fromarray(new_img).show()"
   ]
  },
  {
   "cell_type": "code",
   "execution_count": 8,
   "id": "22b6794b-eb23-471f-8f9b-f30e80937f39",
   "metadata": {},
   "outputs": [],
   "source": [
    "#darker image to lighter image\n",
    "new_img = cv2.adaptiveThreshold(\n",
    "    img, 255,\n",
    "    cv2.ADAPTIVE_THRESH_GAUSSIAN_C,\n",
    "    cv2.THRESH_BINARY,\n",
    "    61,\n",
    "    11\n",
    ")\n",
    "Image.fromarray(new_img).show()"
   ]
  }
 ],
 "metadata": {
  "kernelspec": {
   "display_name": "Python 3 (ipykernel)",
   "language": "python",
   "name": "python3"
  },
  "language_info": {
   "codemirror_mode": {
    "name": "ipython",
    "version": 3
   },
   "file_extension": ".py",
   "mimetype": "text/x-python",
   "name": "python",
   "nbconvert_exporter": "python",
   "pygments_lexer": "ipython3",
   "version": "3.8.10"
  }
 },
 "nbformat": 4,
 "nbformat_minor": 5
}
